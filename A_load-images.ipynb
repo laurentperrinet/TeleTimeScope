{
 "cells": [
  {
   "cell_type": "markdown",
   "id": "amber-police",
   "metadata": {},
   "source": [
    "In this notebook, we:\n",
    "\n",
    " * set up parameters\n",
    " * load images and display one\n",
    " * low-level filtering of the good versus bad images\n",
    " * todo: low-level re-alignment (seems not necessary)"
   ]
  },
  {
   "cell_type": "code",
   "execution_count": 1,
   "id": "multiple-accessory",
   "metadata": {},
   "outputs": [],
   "source": [
    "%load_ext autoreload\n",
    "%autoreload 2\n",
    "from IPython.display import Image, display, Video"
   ]
  },
  {
   "cell_type": "markdown",
   "id": "filled-posting",
   "metadata": {},
   "source": [
    "https://laurentperrinet.github.io/sciblog/posts/2020-08-09-nesting-jupyter-runs.html"
   ]
  },
  {
   "cell_type": "code",
   "execution_count": 2,
   "id": "chicken-enforcement",
   "metadata": {},
   "outputs": [],
   "source": [
    "#verb =  (__name__ == \"__main__\")\n",
    "def has_parent():\n",
    "    \"\"\"\n",
    "    https://stackoverflow.com/questions/48067529/ipython-run-magic-n-switch-not-working\n",
    "    \n",
    "    Return True if this notebook is being run by calling\n",
    "    %run in another notebook, False otherwise.\n",
    "    \"\"\"\n",
    "    try:\n",
    "        __file__\n",
    "        # __file__ has been defined, so this notebook is \n",
    "        # being run in a parent notebook\n",
    "        return True\n",
    "\n",
    "    except NameError:\n",
    "        # __file__ has not been defined, so this notebook is \n",
    "        # not being run in a parent notebook\n",
    "        return False\n",
    "def do_verb():\n",
    "    return not has_parent()\n",
    "\n",
    "verb = do_verb()"
   ]
  },
  {
   "cell_type": "code",
   "execution_count": 3,
   "id": "polished-theme",
   "metadata": {},
   "outputs": [],
   "source": [
    "import numpy as np\n",
    "import matplotlib\n",
    "import matplotlib.pyplot as plt\n",
    "phi = (np.sqrt(5)+1)/2"
   ]
  },
  {
   "cell_type": "code",
   "execution_count": 4,
   "id": "hairy-durham",
   "metadata": {},
   "outputs": [],
   "source": [
    "def init(args=[], date=None, DEBUG=1):\n",
    "    if date is None:\n",
    "        import datetime\n",
    "        # https://en.wikipedia.org/wiki/ISO_8601\n",
    "        date = datetime.datetime.now().date().isoformat()\n",
    "    tag = f'{date}_TimeTeleScope'\n",
    "\n",
    "    import argparse\n",
    "    # Training settings\n",
    "    parser = argparse.ArgumentParser(description='HollowGram')\n",
    "    parser.add_argument('--tag', type=str, default=tag, help='unique ID')\n",
    "    parser.add_argument('--date', type=str, default=date, help='date of the run')\n",
    "    parser.add_argument('--in-path', type=str, default='../orchid', help='Folder to get images')\n",
    "    parser.add_argument('--cache-path', type=str, default='cache_path', help='Folder to store intermediate images')\n",
    "    parser.add_argument('--videos-path', type=str, default='videos', help='Folder to store videos')\n",
    "    parser.add_argument('--figwidth', type=float, default=15, help='Width of figures')\n",
    "    parser.add_argument('--ds', type=int, default=1, help='downsampling factor')\n",
    "    parser.add_argument('--fps', type=float, default=12, help='FPS of output gif')\n",
    "    parser.add_argument('--verb', type=bool, default=0, help='blah or not blah')\n",
    "    args = parser.parse_args(args=[])\n",
    "\n",
    "    return args"
   ]
  },
  {
   "cell_type": "code",
   "execution_count": 5,
   "id": "conceptual-bradford",
   "metadata": {},
   "outputs": [
    {
     "data": {
      "text/plain": [
       "Namespace(tag='2021-02-17_TimeTeleScope', date='2021-02-17', in_path='../orchid', cache_path='cache_path', videos_path='videos', figwidth=15, ds=1, fps=12, verb=0)"
      ]
     },
     "execution_count": 5,
     "metadata": {},
     "output_type": "execute_result"
    }
   ],
   "source": [
    "args = init()\n",
    "args"
   ]
  },
  {
   "cell_type": "code",
   "execution_count": 6,
   "id": "billion-viewer",
   "metadata": {},
   "outputs": [],
   "source": [
    "import os\n",
    "class TimeTeleScopeLoad():\n",
    "    def __init__(self, args):\n",
    "        self.args = args\n",
    "        if self.args.verb : print(f'Tagging our simulations with tag={self.args.tag}')\n",
    "            \n",
    "        os.makedirs(self.args.cache_path, exist_ok=True)\n",
    "        os.makedirs(self.args.videos_path, exist_ok=True)\n",
    "\n",
    "        self.figsize = (self.args.figwidth, self.args.figwidth/phi)\n",
    "\n",
    "    # IMAGE\n",
    "    def glob(self, gex='*.jpg'):\n",
    "        \"\"\"\n",
    "        Globs images in a folder.\n",
    "\n",
    "        Images should have a jpg extension and\n",
    "        be in JPG format.\n",
    "        \n",
    "        Returns a list of image filenames.\n",
    "        \"\"\"\n",
    "        fnames = []\n",
    "\n",
    "        import glob\n",
    "        # https://stackoverflow.com/questions/6773584/how-is-pythons-glob-glob-ordered\n",
    "        for fname in sorted(glob.glob(f'{self.args.in_path}/{gex}')):\n",
    "            fnames.append(fname)\n",
    "\n",
    "        return fnames\n",
    "    \n",
    "    def glob_and_load(self, gex='2021-02-14*.jpg'):\n",
    "        \"\"\"\n",
    "        Globs images in a folder.\n",
    "\n",
    "        Images should have a jpg extension and\n",
    "        be in JPG format.\n",
    "        \n",
    "        Returns a list of images.\n",
    "        \"\"\"\n",
    "        imgs = {}\n",
    "\n",
    "        import glob\n",
    "        # https://stackoverflow.com/questions/6773584/how-is-pythons-glob-glob-ordered\n",
    "        for fname in sorted(glob.glob(f'{self.args.in_path}/{gex}')):\n",
    "            imgs[fname] = self.process(fname, do_preprend=False)\n",
    "\n",
    "        return imgs\n",
    "\n",
    "\n",
    "    def process(self, fname):\n",
    "        # Preprocessing\n",
    "        nx, ny, img = self.load(fname)\n",
    "        if self.args.verb >= 20 : print('img min max', img.min(), img.max())\n",
    "        return img/255.\n",
    "    \n",
    "    def load(self, fname):\n",
    "        \"\"\"\n",
    "        Load an image.\n",
    "\n",
    "        Range clipped to [0 ... 1]\n",
    "        \"\"\"\n",
    "        import cv2\n",
    "        if self.args.verb : print(f'Loading {fname}')\n",
    "        im = cv2.imread(fname, cv2.IMREAD_UNCHANGED)\n",
    "        im = cv2.cvtColor(im, cv2.COLOR_BGR2RGB)\n",
    "\n",
    "        # resample by resizing image\n",
    "        nx, ny, three = im.shape\n",
    "        if self.args.ds > 1:\n",
    "            # CAREFUL ! for a strange reason openCV inverts H and W ??\n",
    "            im = cv2.resize(im, (ny//self.args.ds, nx//self.args.ds),\n",
    "                            interpolation = cv2.INTER_AREA)\n",
    "            nx, ny, three = im.shape\n",
    "        assert(three==3)\n",
    "        return nx, ny, im\n"
   ]
  },
  {
   "cell_type": "code",
   "execution_count": 7,
   "id": "experimental-independence",
   "metadata": {},
   "outputs": [],
   "source": [
    "ttl = TimeTeleScopeLoad(args)"
   ]
  },
  {
   "cell_type": "code",
   "execution_count": 8,
   "id": "golden-highlight",
   "metadata": {},
   "outputs": [],
   "source": [
    "fnames = ttl.glob()"
   ]
  },
  {
   "cell_type": "code",
   "execution_count": 9,
   "id": "southern-fourth",
   "metadata": {},
   "outputs": [
    {
     "name": "stdout",
     "output_type": "stream",
     "text": [
      "684=\n"
     ]
    }
   ],
   "source": [
    "print(f'{len(fnames)}=')"
   ]
  },
  {
   "cell_type": "code",
   "execution_count": 10,
   "id": "introductory-national",
   "metadata": {},
   "outputs": [],
   "source": [
    "\n",
    "def get_mask(sourceImage, sigma=.61803):\n",
    "    \n",
    "    N_X, N_Y, three = sourceImage.shape\n",
    "    x, y, c = np.mgrid[-1:1:1j*N_X, -1:1:1j*N_Y, -1:1:1j*three]\n",
    "    mask = np.exp(-.5* x**2 + y**2 / sigma**2)\n",
    "    return mask\n"
   ]
  }
 ],
 "metadata": {
  "kernelspec": {
   "display_name": "Python 3",
   "language": "python",
   "name": "python3"
  },
  "language_info": {
   "codemirror_mode": {
    "name": "ipython",
    "version": 3
   },
   "file_extension": ".py",
   "mimetype": "text/x-python",
   "name": "python",
   "nbconvert_exporter": "python",
   "pygments_lexer": "ipython3",
   "version": "3.9.1"
  }
 },
 "nbformat": 4,
 "nbformat_minor": 5
}
