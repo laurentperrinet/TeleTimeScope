{
 "cells": [
  {
   "cell_type": "code",
   "execution_count": 1,
   "id": "utility-shark",
   "metadata": {},
   "outputs": [
    {
     "name": "stdout",
     "output_type": "stream",
     "text": [
      "len(fnames)=684\n"
     ]
    }
   ],
   "source": [
    "#%run B_equalize-histograms-laggui.ipynb\n",
    "#%run B_equalize-histograms-mask.ipynb\n",
    "%run B_equalize-histograms-sklearn.ipynb"
   ]
  },
  {
   "cell_type": "code",
   "execution_count": 2,
   "id": "weird-given",
   "metadata": {},
   "outputs": [
    {
     "data": {
      "text/plain": [
       "Namespace(tag='2021-02-21_TimeTeleScope', date='2021-02-21', in_path='../orchid', cache_path='cache_path', videos_path='videos', figwidth=15, ds=1, fps=12, verb=0)"
      ]
     },
     "execution_count": 2,
     "metadata": {},
     "output_type": "execute_result"
    }
   ],
   "source": [
    "ttl.args"
   ]
  },
  {
   "cell_type": "markdown",
   "id": "narrow-general",
   "metadata": {},
   "source": [
    "# processing the full stack into a movie\n",
    "\n",
    "Now that we know how to match the images from the stack to some reference, we can process the whole stack and save the matched images into a cache folder:\n"
   ]
  },
  {
   "cell_type": "code",
   "execution_count": 3,
   "id": "embedded-march",
   "metadata": {},
   "outputs": [],
   "source": [
    "fnames = ttl.glob()"
   ]
  },
  {
   "cell_type": "code",
   "execution_count": 4,
   "id": "supported-copyright",
   "metadata": {},
   "outputs": [],
   "source": [
    "frames = []\n",
    "n_bits = 16 # precision for saving images\n",
    "\n",
    "for i, fname_new in enumerate(fnames):\n",
    "    # print(f'{fname_new=}')\n",
    "    image_matched = histMatch(ttl.process(fname_new), image_reference)\n",
    "    #print(image_matched.min(), image_matched.max())\n",
    "    image_matched *= 2**n_bits-1\n",
    "    image_matched = image_matched.astype(np.uint16)\n",
    "\n",
    "    fname = f'{ttl.args.cache_path}/{ttl.args.tag}_{i}.png'\n",
    "    \n",
    "    import cv2\n",
    "    cv2.imwrite(fname, cv2.cvtColor(image_matched, cv2.COLOR_RGB2BGR))\n",
    "\n",
    "    frames.append(fname)\n",
    "    "
   ]
  },
  {
   "cell_type": "markdown",
   "id": "engaged-throat",
   "metadata": {},
   "source": [
    "## Merging single frames \n",
    "\n",
    "We use the excellent [moviepy](https://pypi.org/project/moviepy/) library to convert the single frames into a movie:"
   ]
  },
  {
   "cell_type": "code",
   "execution_count": 5,
   "id": "excessive-drama",
   "metadata": {},
   "outputs": [
    {
     "name": "stderr",
     "output_type": "stream",
     "text": [
      "t:   0%|          | 2/685 [00:00<00:36, 18.53it/s, now=None]"
     ]
    },
    {
     "name": "stdout",
     "output_type": "stream",
     "text": [
      "Moviepy - Building video videos/2021-02-21_TimeTeleScope.mp4.\n",
      "Moviepy - Writing video videos/2021-02-21_TimeTeleScope.mp4\n",
      "\n"
     ]
    },
    {
     "name": "stderr",
     "output_type": "stream",
     "text": [
      "                                                              \r"
     ]
    },
    {
     "name": "stdout",
     "output_type": "stream",
     "text": [
      "Moviepy - Done !\n",
      "Moviepy - video ready videos/2021-02-21_TimeTeleScope.mp4\n"
     ]
    },
    {
     "data": {
      "text/plain": [
       "'videos/2021-02-21_TimeTeleScope.mp4'"
      ]
     },
     "execution_count": 5,
     "metadata": {},
     "output_type": "execute_result"
    }
   ],
   "source": [
    "import moviepy.editor as mpy\n",
    "import moviepy.video.io.ImageSequenceClip\n",
    "def make_mp4(moviename, frames, fps, do_delete=True):\n",
    "    clip = moviepy.video.io.ImageSequenceClip.ImageSequenceClip(frames, fps=fps)\n",
    "    clip.write_videofile(moviename)\n",
    "    if do_delete: \n",
    "        for frame in frames: os.remove(frame)\n",
    "    return moviename\n",
    "\n",
    "video_name = f'{ttl.args.videos_path}/{ttl.args.tag}.mp4'\n",
    "make_mp4(video_name, frames, ttl.args.fps, do_delete=False)"
   ]
  },
  {
   "cell_type": "markdown",
   "id": "acute-savannah",
   "metadata": {},
   "source": [
    "Eventually, we can have a preview using:"
   ]
  },
  {
   "cell_type": "code",
   "execution_count": 6,
   "id": "polyphonic-involvement",
   "metadata": {},
   "outputs": [],
   "source": [
    "#from IPython.display import Image, display\n",
    "width = 1024\n",
    "\n",
    "def show(filename, width=1024):\n",
    "    from IPython.display import Video\n",
    "    # https://ipython.readthedocs.io/en/stable/api/generated/IPython.display.html?highlight=IPython.display#IPython.display.Video\n",
    "    return Video(filename, html_attributes=f\"controls muted autoplay width={width}\")\n",
    "\n",
    "# show(video_name, width=1024)"
   ]
  },
  {
   "cell_type": "code",
   "execution_count": 7,
   "id": "actual-opportunity",
   "metadata": {},
   "outputs": [],
   "source": [
    "if verb:\n",
    "\n",
    "    image_matched = histMatch(ttl.process(image_new), ttl.process(image_reference))\n",
    "    fig, ax = plt.subplots(figsize=ttl.figsize)\n",
    "    ax.imshow(image_matched, vmin=0, vmax=255);\n",
    "\n",
    "    image_matched.min(), image_matched.max()"
   ]
  },
  {
   "cell_type": "markdown",
   "id": "selective-algorithm",
   "metadata": {},
   "source": [
    "Moreover, it's easy to generate a gif (with some downscaling to avoid having a huge file...):"
   ]
  },
  {
   "cell_type": "code",
   "execution_count": 8,
   "id": "affecting-publication",
   "metadata": {},
   "outputs": [],
   "source": [
    "def make_gif(gifname, frames, fps, ds=1, tds=1, do_delete=True):\n",
    "    import imageio\n",
    "    with imageio.get_writer(gifname, mode='I', fps=fps) as writer:\n",
    "        for frame in frames[::tds]:\n",
    "            img = imageio.imread(frame)\n",
    "            if ds > 1:\n",
    "                nx, ny, three = img.shape\n",
    "                # CAREFUL ! for a strange reason openCV inverts H and W ??\n",
    "                img = cv2.resize(img, (ny//ds, nx//ds),\n",
    "                                interpolation = cv2.INTER_AREA)\n",
    "                nx, ny, three = img.shape            \n",
    "            writer.append_data(img)\n",
    "\n",
    "    from pygifsicle import optimize\n",
    "    optimize(str(gifname))\n",
    "    if do_delete: \n",
    "        for frame in frames: os.remove(fname)\n",
    "    return gifname"
   ]
  },
  {
   "cell_type": "code",
   "execution_count": 9,
   "id": "assisted-lucas",
   "metadata": {},
   "outputs": [
    {
     "data": {
      "text/plain": [
       "'videos/2021-02-21_TimeTeleScope.gif'"
      ]
     },
     "execution_count": 9,
     "metadata": {},
     "output_type": "execute_result"
    }
   ],
   "source": [
    "gif_name = f'{ttl.args.videos_path}/{ttl.args.tag}.gif'\n",
    "make_gif(gif_name, frames, ttl.args.fps, ds=8, tds=4, do_delete=False)"
   ]
  },
  {
   "cell_type": "markdown",
   "id": "exotic-supplier",
   "metadata": {},
   "source": [
    "Et voilà!"
   ]
  },
  {
   "cell_type": "markdown",
   "id": "exposed-johnston",
   "metadata": {},
   "source": [
    "## some book keeping for the notebook"
   ]
  },
  {
   "cell_type": "code",
   "execution_count": 10,
   "id": "fatal-housing",
   "metadata": {},
   "outputs": [
    {
     "name": "stdout",
     "output_type": "stream",
     "text": [
      "Python implementation: CPython\n",
      "Python version       : 3.9.1\n",
      "IPython version      : 7.19.0\n",
      "\n",
      "numpy     : 1.20.1\n",
      "cv2       : 4.5.1\n",
      "moviepy   : 1.0.3\n",
      "skimage   : 0.18.1\n",
      "matplotlib: 3.3.3\n",
      "\n",
      "Compiler    : Clang 12.0.0 (clang-1200.0.32.29)\n",
      "OS          : Darwin\n",
      "Release     : 20.2.0\n",
      "Machine     : x86_64\n",
      "Processor   : i386\n",
      "CPU cores   : 4\n",
      "Architecture: 64bit\n",
      "\n",
      "Hostname: ekla\n",
      "\n",
      "Git hash: 306725c1778bf4d3cb07172966b8af9432172dee\n",
      "\n",
      "Git repo: https://github.com/laurentperrinet/TimeTeleScope\n",
      "\n",
      "Git branch: main\n",
      "\n"
     ]
    }
   ],
   "source": [
    "%load_ext watermark\n",
    "%watermark -i -h -m -v -p numpy,cv2,moviepy,skimage,matplotlib  -r -g -b"
   ]
  }
 ],
 "metadata": {
  "kernelspec": {
   "display_name": "Python 3",
   "language": "python",
   "name": "python3"
  },
  "language_info": {
   "codemirror_mode": {
    "name": "ipython",
    "version": 3
   },
   "file_extension": ".py",
   "mimetype": "text/x-python",
   "name": "python",
   "nbconvert_exporter": "python",
   "pygments_lexer": "ipython3",
   "version": "3.9.1"
  }
 },
 "nbformat": 4,
 "nbformat_minor": 5
}
